{
 "cells": [
  {
   "cell_type": "code",
   "execution_count": 92,
   "metadata": {},
   "outputs": [],
   "source": [
    "import numpy as np\n",
    "\n",
    "import matplotlib.pyplot as plt\n",
    "\n",
    "from scipy import stats"
   ]
  },
  {
   "cell_type": "markdown",
   "metadata": {},
   "source": [
    "## Part 3-a)"
   ]
  },
  {
   "cell_type": "code",
   "execution_count": 115,
   "metadata": {},
   "outputs": [],
   "source": [
    "def number_of_attempts(p_pass):\n",
    "    count=1\n",
    "    while(np.random.rand(1,)[0]>p_pass):\n",
    "        count+=1\n",
    "    return count"
   ]
  },
  {
   "cell_type": "code",
   "execution_count": 129,
   "metadata": {},
   "outputs": [
    {
     "data": {
      "text/plain": [
       "5"
      ]
     },
     "execution_count": 129,
     "metadata": {},
     "output_type": "execute_result"
    }
   ],
   "source": [
    "number_of_attempts(0.4)"
   ]
  },
  {
   "cell_type": "code",
   "execution_count": 139,
   "metadata": {},
   "outputs": [
    {
     "data": {
      "image/png": "[encoded data removed]",
      "text/plain": [
       "<Figure size 432x288 with 1 Axes>"
      ]
     },
     "metadata": {
      "needs_background": "light"
     },
     "output_type": "display_data"
    }
   ],
   "source": [
    "a=np.linspace(0.1,0.9,num=100)\n",
    "b=np.array([])\n",
    "for i in range(0,100):\n",
    "    b=np.append(b,number_of_attempts(a[i]))\n",
    "plt.hist(b)\n",
    "plt.xlabel('No. of attempts')\n",
    "plt.ylabel('Frequency')\n",
    "plt.show()"
   ]
  },
  {
   "cell_type": "markdown",
   "metadata": {},
   "source": [
    "p_pass is inversely proportional to the number of attempts. We can also tell that the max number of attempts are less than 10 and rarely the student takes more than 10 attempts."
   ]
  },
  {
   "cell_type": "markdown",
   "metadata": {},
   "source": [
    "## Part 3-b)"
   ]
  },
  {
   "cell_type": "code",
   "execution_count": null,
   "metadata": {},
   "outputs": [],
   "source": []
  },
  {
   "cell_type": "code",
   "execution_count": 124,
   "metadata": {},
   "outputs": [],
   "source": [
    "def Random_outcome():\n",
    "    a=np.random.rand(1,)\n",
    "    if(a[0]<=0.4):\n",
    "        maleh=(np.random.normal(140,15,(1,)))[0]\n",
    "        malew=(np.random.normal(90,10,(1,)))[0]\n",
    "        return maleh,malew\n",
    "    if(a[0]>0.4):\n",
    "        femaleh=(np.random.normal(195,10,(1,)))[0]\n",
    "        femalew=(np.random.normal(60,5,(1,)))[0]\n",
    "        return femaleh,femalew"
   ]
  },
  {
   "cell_type": "code",
   "execution_count": 125,
   "metadata": {},
   "outputs": [
    {
     "data": {
      "text/plain": [
       "array([98.99224147])"
      ]
     },
     "execution_count": 125,
     "metadata": {},
     "output_type": "execute_result"
    }
   ],
   "source": [
    "(np.random.normal(90,10,(1,)))"
   ]
  },
  {
   "cell_type": "code",
   "execution_count": 88,
   "metadata": {},
   "outputs": [
    {
     "data": {
      "text/plain": [
       "Text(0.5, 1.0, 'Height vs Weight of 50 random inhabitants of Normlösa.')"
      ]
     },
     "execution_count": 88,
     "metadata": {},
     "output_type": "execute_result"
    },
    {
     "data": {
      "image/png": "[encoded data removed]",
      "text/plain": [
       "<Figure size 432x288 with 1 Axes>"
      ]
     },
     "metadata": {
      "needs_background": "light"
     },
     "output_type": "display_data"
    }
   ],
   "source": [
    "dataset=np.zeros(shape=(50,2))\n",
    "for i in range(0,50):\n",
    "    c=Random_outcome()\n",
    "    dataset[i,0]=c[0]\n",
    "    dataset[i,1]=c[1]\n",
    "    \n",
    "    \n",
    "plt.scatter(dataset[:,1],dataset[:,0])\n",
    "\n",
    "plt.ylabel('Height in cm')\n",
    "plt.xlabel('Weight in kgs')\n",
    "plt.title('Height vs Weight of 50 random inhabitants of Normlösa.')"
   ]
  },
  {
   "cell_type": "markdown",
   "metadata": {},
   "source": [
    "We can see her clearly that the scatter plot is divided intp 2 clusters, one at the top left(female as they are tall and thin) and other at the bottom right(male, as they are short and fat). In the above scatter plot if we draw a vertical line at 70kgs, then points to the lrft are all females and points to the right are all males."
   ]
  },
  {
   "cell_type": "code",
   "execution_count": 89,
   "metadata": {},
   "outputs": [
    {
     "name": "stdout",
     "output_type": "stream",
     "text": [
      "[[140.91570335  86.26851284]\n",
      " [134.19061095  86.31977039]\n",
      " [145.36771567  84.26961189]\n",
      " [141.60516993  88.11131032]\n",
      " [152.44957276 100.03695517]\n",
      " [152.01970462  71.13704415]\n",
      " [155.48500894  97.9314032 ]\n",
      " [117.37669546  92.44882077]\n",
      " [146.86322246  98.81997682]\n",
      " [137.53147168  91.7008559 ]\n",
      " [131.0434399   98.14664947]\n",
      " [153.8927972   95.46996263]\n",
      " [140.57983072  92.46777664]\n",
      " [149.59603483  94.39761335]\n",
      " [153.01215716  96.99507909]\n",
      " [128.19211309  94.60828173]\n",
      " [123.85166468  98.04818719]\n",
      " [141.17099511  73.67383536]\n",
      " [145.0182177   94.90823885]]\n"
     ]
    }
   ],
   "source": [
    "males=dataset[dataset[:,1]>70]\n",
    "print(males)"
   ]
  },
  {
   "cell_type": "code",
   "execution_count": 93,
   "metadata": {},
   "outputs": [
    {
     "name": "stdout",
     "output_type": "stream",
     "text": [
      "DescribeResult(nobs=19, minmax=(117.37669545966526, 155.48500894304834), mean=141.5874803268911, variance=115.78174831955272, skewness=-0.6692954733949268, kurtosis=-0.3813355627125654)\n"
     ]
    }
   ],
   "source": [
    "#info about men's height\n",
    "print(stats.describe(males[:,0]))"
   ]
  },
  {
   "cell_type": "code",
   "execution_count": 94,
   "metadata": {},
   "outputs": [
    {
     "name": "stdout",
     "output_type": "stream",
     "text": [
      "DescribeResult(nobs=19, minmax=(71.13704414764386, 100.03695517436203), mean=91.35578346074404, variance=65.68781073507816, skewness=-1.2990371602802706, kurtosis=0.8767881690370833)\n"
     ]
    }
   ],
   "source": [
    "#info about men's weight\n",
    "print(stats.describe(males[:,1]))"
   ]
  },
  {
   "cell_type": "code",
   "execution_count": 99,
   "metadata": {},
   "outputs": [
    {
     "name": "stdout",
     "output_type": "stream",
     "text": [
      "38.0\n"
     ]
    }
   ],
   "source": [
    "#proportion of men(approximately equal to 40%)\n",
    "p=(np.shape(males[:,1])[0]/np.shape(dataset)[0])*100\n",
    "print(p)"
   ]
  },
  {
   "cell_type": "code",
   "execution_count": 90,
   "metadata": {},
   "outputs": [
    {
     "name": "stdout",
     "output_type": "stream",
     "text": [
      "[[214.6244101   55.38819659]\n",
      " [187.4514537   58.75535568]\n",
      " [196.66653052  61.74881471]\n",
      " [214.91795481  57.02159513]\n",
      " [183.67665286  58.9189407 ]\n",
      " [185.72327869  58.02886182]\n",
      " [199.7827078   53.52266226]\n",
      " [189.58838591  53.99931269]\n",
      " [203.86319024  67.30451296]\n",
      " [201.18128797  50.87673004]\n",
      " [199.73008362  59.95866786]\n",
      " [202.27194021  64.0118704 ]\n",
      " [196.02262415  54.07129308]\n",
      " [209.89281953  52.25035576]\n",
      " [176.73576987  59.78399884]\n",
      " [199.24575048  50.32797459]\n",
      " [203.20884893  60.15286789]\n",
      " [205.29662714  52.77668112]\n",
      " [184.39636267  61.49744782]\n",
      " [198.93504846  59.95633416]\n",
      " [205.32339732  53.24167167]\n",
      " [196.30158007  61.89611472]\n",
      " [187.10239774  60.65817177]\n",
      " [191.76262261  55.42506252]\n",
      " [199.2616598   62.1504591 ]\n",
      " [210.54162768  55.87145101]\n",
      " [203.84808654  56.40826759]\n",
      " [171.98988979  64.65885893]\n",
      " [198.64339801  59.67283581]\n",
      " [201.20497349  61.14406768]\n",
      " [197.02056116  54.44863061]]\n"
     ]
    }
   ],
   "source": [
    "females=dataset[dataset[:,1]<70]\n",
    "print(females)"
   ]
  },
  {
   "cell_type": "code",
   "execution_count": 100,
   "metadata": {},
   "outputs": [
    {
     "name": "stdout",
     "output_type": "stream",
     "text": [
      "DescribeResult(nobs=31, minmax=(171.98988978532833, 214.91795480979974), mean=197.2971587707202, variance=103.88945613640348, skewness=-0.5338323906224473, kurtosis=0.033369485665035725)\n"
     ]
    }
   ],
   "source": [
    "#info about female's height\n",
    "print(stats.describe(females[:,0]))"
   ]
  },
  {
   "cell_type": "code",
   "execution_count": 101,
   "metadata": {},
   "outputs": [
    {
     "name": "stdout",
     "output_type": "stream",
     "text": [
      "DescribeResult(nobs=31, minmax=(50.327974593842626, 67.3045129596842), mean=57.93316340425973, variance=18.013772424492448, skewness=0.07839797418129316, kurtosis=-0.7226355094764387)\n"
     ]
    }
   ],
   "source": [
    "#info about female's weight\n",
    "print(stats.describe(females[:,1]))"
   ]
  }
 ],
 "metadata": {
  "kernelspec": {
   "display_name": "Python 3",
   "language": "python",
   "name": "python3"
  },
  "language_info": {
   "codemirror_mode": {
    "name": "ipython",
    "version": 3
   },
   "file_extension": ".py",
   "mimetype": "text/x-python",
   "name": "python",
   "nbconvert_exporter": "python",
   "pygments_lexer": "ipython3",
   "version": "3.7.3"
  }
 },
 "nbformat": 4,
 "nbformat_minor": 2
}
