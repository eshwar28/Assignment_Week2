{
 "cells": [
  {
   "cell_type": "code",
   "execution_count": 4,
   "metadata": {},
   "outputs": [],
   "source": [
    "import numpy as np\n",
    "\n",
    "import matplotlib.pyplot as plt"
   ]
  },
  {
   "cell_type": "markdown",
   "metadata": {},
   "source": [
    "# # Part-2"
   ]
  },
  {
   "cell_type": "markdown",
   "metadata": {},
   "source": [
    "First, we import a random vector using rand function, and experiment the size of the vector to see its effect on shape of histogram"
   ]
  },
  {
   "cell_type": "code",
   "execution_count": 15,
   "metadata": {},
   "outputs": [
    {
     "data": {
      "text/plain": [
       "(array([2., 1., 0., 0., 1., 1., 1., 0., 2., 2.]),\n",
       " array([0.05157765, 0.12754743, 0.20351721, 0.27948699, 0.35545678,\n",
       "        0.43142656, 0.50739634, 0.58336612, 0.65933591, 0.73530569,\n",
       "        0.81127547]),\n",
       " <a list of 10 Patch objects>)"
      ]
     },
     "execution_count": 15,
     "metadata": {},
     "output_type": "execute_result"
    },
    {
     "data": {
      "image/png": "[encoded data removed]",
      "text/plain": [
       "<Figure size 432x288 with 1 Axes>"
      ]
     },
     "metadata": {
      "needs_background": "light"
     },
     "output_type": "display_data"
    }
   ],
   "source": [
    "a=np.random.rand(10,)\n",
    "plt.hist(a)"
   ]
  },
  {
   "cell_type": "code",
   "execution_count": 17,
   "metadata": {},
   "outputs": [
    {
     "data": {
      "text/plain": [
       "(array([ 5., 11.,  5.,  3.,  5.,  2.,  3.,  9.,  4.,  3.]),\n",
       " array([0.00310932, 0.10120353, 0.19929774, 0.29739195, 0.39548616,\n",
       "        0.49358037, 0.59167458, 0.68976879, 0.787863  , 0.88595721,\n",
       "        0.98405141]),\n",
       " <a list of 10 Patch objects>)"
      ]
     },
     "execution_count": 17,
     "metadata": {},
     "output_type": "execute_result"
    },
    {
     "data": {
      "image/png": "[encoded data removed]",
      "text/plain": [
       "<Figure size 432x288 with 1 Axes>"
      ]
     },
     "metadata": {
      "needs_background": "light"
     },
     "output_type": "display_data"
    }
   ],
   "source": [
    "b=np.random.rand(50,)\n",
    "plt.hist(b)"
   ]
  },
  {
   "cell_type": "code",
   "execution_count": 18,
   "metadata": {},
   "outputs": [
    {
     "data": {
      "text/plain": [
       "(array([63., 50., 45., 55., 45., 52., 45., 57., 46., 42.]),\n",
       " array([0.00349946, 0.10300338, 0.2025073 , 0.30201122, 0.40151514,\n",
       "        0.50101906, 0.60052298, 0.7000269 , 0.79953082, 0.89903474,\n",
       "        0.99853866]),\n",
       " <a list of 10 Patch objects>)"
      ]
     },
     "execution_count": 18,
     "metadata": {},
     "output_type": "execute_result"
    },
    {
     "data": {
      "image/png": "[encoded data removed]",
      "text/plain": [
       "<Figure size 432x288 with 1 Axes>"
      ]
     },
     "metadata": {
      "needs_background": "light"
     },
     "output_type": "display_data"
    }
   ],
   "source": [
    "c=np.random.rand(500,)\n",
    "plt.hist(c)"
   ]
  },
  {
   "cell_type": "code",
   "execution_count": 19,
   "metadata": {},
   "outputs": [
    {
     "data": {
      "text/plain": [
       "(array([518., 506., 475., 513., 521., 505., 500., 459., 525., 478.]),\n",
       " array([1.02652977e-04, 1.00085017e-01, 2.00067382e-01, 3.00049746e-01,\n",
       "        4.00032111e-01, 5.00014475e-01, 5.99996840e-01, 6.99979204e-01,\n",
       "        7.99961569e-01, 8.99943933e-01, 9.99926298e-01]),\n",
       " <a list of 10 Patch objects>)"
      ]
     },
     "execution_count": 19,
     "metadata": {},
     "output_type": "execute_result"
    },
    {
     "data": {
      "image/png": "[encoded data removed]",
      "text/plain": [
       "<Figure size 432x288 with 1 Axes>"
      ]
     },
     "metadata": {
      "needs_background": "light"
     },
     "output_type": "display_data"
    }
   ],
   "source": [
    "d=np.random.rand(5000,)\n",
    "plt.hist(d)"
   ]
  },
  {
   "cell_type": "markdown",
   "metadata": {},
   "source": [
    "We notice that when number of elements is small, then the histogram has a random shape. But when is n is increased and it reaches a large value, we see that it has a symmetric uniform distribution."
   ]
  },
  {
   "cell_type": "code",
   "execution_count": 24,
   "metadata": {},
   "outputs": [
    {
     "data": {
      "text/plain": [
       "(array([1., 2., 2., 0., 1., 3., 0., 1., 0., 1.]),\n",
       " array([-1.17228255, -0.91420854, -0.65613452, -0.39806051, -0.13998649,\n",
       "         0.11808752,  0.37616154,  0.63423555,  0.89230957,  1.15038358,\n",
       "         1.4084576 ]),\n",
       " <a list of 10 Patch objects>)"
      ]
     },
     "execution_count": 24,
     "metadata": {},
     "output_type": "execute_result"
    },
    {
     "data": {
      "image/png": "[encoded data removed]",
      "text/plain": [
       "<Figure size 432x288 with 1 Axes>"
      ]
     },
     "metadata": {
      "needs_background": "light"
     },
     "output_type": "display_data"
    }
   ],
   "source": [
    "x=np.random.normal(size=(10,))\n",
    "plt.hist(x)"
   ]
  },
  {
   "cell_type": "code",
   "execution_count": 25,
   "metadata": {},
   "outputs": [
    {
     "data": {
      "text/plain": [
       "(array([ 2.,  4.,  4., 13., 13., 22., 18., 14.,  6.,  4.]),\n",
       " array([-2.54979527, -2.05431655, -1.55883784, -1.06335913, -0.56788041,\n",
       "        -0.0724017 ,  0.42307702,  0.91855573,  1.41403444,  1.90951316,\n",
       "         2.40499187]),\n",
       " <a list of 10 Patch objects>)"
      ]
     },
     "execution_count": 25,
     "metadata": {},
     "output_type": "execute_result"
    },
    {
     "data": {
      "image/png": "[encoded data removed]",
      "text/plain": [
       "<Figure size 432x288 with 1 Axes>"
      ]
     },
     "metadata": {
      "needs_background": "light"
     },
     "output_type": "display_data"
    }
   ],
   "source": [
    "y=np.random.normal(size=(100,))\n",
    "plt.hist(y)"
   ]
  },
  {
   "cell_type": "code",
   "execution_count": 26,
   "metadata": {},
   "outputs": [
    {
     "data": {
      "text/plain": [
       "(array([  7.,  31.,  90., 199., 250., 223., 136.,  47.,  14.,   3.]),\n",
       " array([-3.10747443, -2.44264985, -1.77782527, -1.11300068, -0.4481761 ,\n",
       "         0.21664848,  0.88147306,  1.54629764,  2.21112222,  2.8759468 ,\n",
       "         3.54077139]),\n",
       " <a list of 10 Patch objects>)"
      ]
     },
     "execution_count": 26,
     "metadata": {},
     "output_type": "execute_result"
    },
    {
     "data": {
      "image/png": "[encoded data removed]",
      "text/plain": [
       "<Figure size 432x288 with 1 Axes>"
      ]
     },
     "metadata": {
      "needs_background": "light"
     },
     "output_type": "display_data"
    }
   ],
   "source": [
    "z=np.random.normal(size=(1000,))\n",
    "plt.hist(z)"
   ]
  },
  {
   "cell_type": "markdown",
   "metadata": {},
   "source": [
    "Even for normal distribution, initially when number of elements is small the shape is random but gradually as number of elements increases the shape becomes symmetric unimodal single peaked distribution."
   ]
  }
 ],
 "metadata": {
  "kernelspec": {
   "display_name": "Python 3",
   "language": "python",
   "name": "python3"
  },
  "language_info": {
   "codemirror_mode": {
    "name": "ipython",
    "version": 3
   },
   "file_extension": ".py",
   "mimetype": "text/x-python",
   "name": "python",
   "nbconvert_exporter": "python",
   "pygments_lexer": "ipython3",
   "version": "3.7.3"
  }
 },
 "nbformat": 4,
 "nbformat_minor": 2
}
